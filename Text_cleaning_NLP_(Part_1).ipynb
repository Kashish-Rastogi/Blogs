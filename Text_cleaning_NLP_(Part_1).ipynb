{
  "nbformat": 4,
  "nbformat_minor": 0,
  "metadata": {
    "colab": {
      "name": "Text cleaning NLP (Part-1).ipynb",
      "provenance": []
    },
    "kernelspec": {
      "name": "python3",
      "display_name": "Python 3"
    },
    "language_info": {
      "name": "python"
    }
  },
  "cells": [
    {
      "cell_type": "markdown",
      "source": [
        "## This Notebook is made to demonstarte the code for the article Text Cleaning NLP (Patr-1)\n",
        "To read full article follow this link here"
      ],
      "metadata": {
        "id": "ASKkqP3RvsGg"
      }
    },
    {
      "cell_type": "code",
      "source": [
        "import re\n",
        "import pandas as pd\n",
        "import string"
      ],
      "metadata": {
        "id": "fOcTzVhIuNHw"
      },
      "execution_count": 1,
      "outputs": []
    },
    {
      "cell_type": "markdown",
      "source": [
        "### Text"
      ],
      "metadata": {
        "id": "Wq7z-k8KvQ9t"
      }
    },
    {
      "cell_type": "code",
      "source": [
        "text = \"I had such  high hopes for this dress  15 size or (my usual size) to work for me.\" \n",
        "print(text)\n",
        "#Output\n",
        "#I had such  high hopes for this dress  15 size or (my usual size) to work for me."
      ],
      "metadata": {
        "colab": {
          "base_uri": "https://localhost:8080/"
        },
        "id": "WeLDQ3i6vKec",
        "outputId": "54e1e722-1057-4ed6-dec8-9a10c79742ca"
      },
      "execution_count": 2,
      "outputs": [
        {
          "output_type": "stream",
          "name": "stdout",
          "text": [
            "I had such  high hopes for this dress  15 size or (my usual size) to work for me.\n"
          ]
        }
      ]
    },
    {
      "cell_type": "markdown",
      "source": [
        "### Lowercasing the data"
      ],
      "metadata": {
        "id": "UhuV7br2vC4-"
      }
    },
    {
      "cell_type": "code",
      "source": [
        "ans = text.lower()\n",
        "ans\n",
        "\n",
        "#Output\n",
        "#'i had such  high hopes for this dress  15 size or (my usual size) to work for me.'"
      ],
      "metadata": {
        "colab": {
          "base_uri": "https://localhost:8080/",
          "height": 35
        },
        "id": "DZ5dK2UzvBmb",
        "outputId": "e59dd8c6-e5f2-4ca1-eb0e-5fe9de7fe67a"
      },
      "execution_count": 3,
      "outputs": [
        {
          "output_type": "execute_result",
          "data": {
            "application/vnd.google.colaboratory.intrinsic+json": {
              "type": "string"
            },
            "text/plain": [
              "'i had such  high hopes for this dress  15 size or (my usual size) to work for me.'"
            ]
          },
          "metadata": {},
          "execution_count": 3
        }
      ]
    },
    {
      "cell_type": "markdown",
      "source": [
        "### Removing Punctutaions"
      ],
      "metadata": {
        "id": "XxM6I0sAvC8Q"
      }
    },
    {
      "cell_type": "code",
      "source": [
        "import string\n",
        "\n",
        "text = \"I had such  high hopes! for this dress   size or (my usual size) to work for me.\"\n",
        "PUNCT_TO_REMOVE = string.punctuation\n",
        "ans = text.translate(str.maketrans('', '', PUNCT_TO_REMOVE))\n",
        "ans\n",
        "\n",
        "#Output\n",
        "#'I had such  high hopes for this dress  15 size or my usual size to work for me'"
      ],
      "metadata": {
        "colab": {
          "base_uri": "https://localhost:8080/",
          "height": 35
        },
        "id": "CDTKDel0uNh3",
        "outputId": "a06fecf5-d015-4f21-fba0-0db8f10ed626"
      },
      "execution_count": 14,
      "outputs": [
        {
          "output_type": "execute_result",
          "data": {
            "application/vnd.google.colaboratory.intrinsic+json": {
              "type": "string"
            },
            "text/plain": [
              "'I had such  high hopes for this dress   size or my usual size to work for me'"
            ]
          },
          "metadata": {},
          "execution_count": 14
        }
      ]
    },
    {
      "cell_type": "markdown",
      "source": [
        "### Removing Numbers"
      ],
      "metadata": {
        "id": "kc1dOBkYu5qp"
      }
    },
    {
      "cell_type": "code",
      "source": [
        "text = \n",
        "ans = ''.join([i for i in text if not i.isdigit()])\n",
        "ans\n",
        "\n",
        "#Output\n",
        "#'I had such  high hopes for this dress   size or (my usual size) to work for me.'"
      ],
      "metadata": {
        "colab": {
          "base_uri": "https://localhost:8080/",
          "height": 35
        },
        "id": "zahiLlANuNeg",
        "outputId": "63079948-e2d9-401c-971b-04657f3b45aa"
      },
      "execution_count": 5,
      "outputs": [
        {
          "output_type": "execute_result",
          "data": {
            "application/vnd.google.colaboratory.intrinsic+json": {
              "type": "string"
            },
            "text/plain": [
              "'I had such  high hopes for this dress   size or (my usual size) to work for me.'"
            ]
          },
          "metadata": {},
          "execution_count": 5
        }
      ]
    },
    {
      "cell_type": "markdown",
      "source": [
        "### Removing extra space"
      ],
      "metadata": {
        "id": "y2idRyuAu0N-"
      }
    },
    {
      "cell_type": "code",
      "source": [
        "ans = \" \".join(text.split())\n",
        "ans\n",
        "\n",
        "#Output\n",
        "#'I had such high hopes for this dress 15 size or (my usual size) to work for me.'"
      ],
      "metadata": {
        "colab": {
          "base_uri": "https://localhost:8080/",
          "height": 35
        },
        "id": "4NURKVFHuNRo",
        "outputId": "7ed2d0de-0944-4598-f36c-bf2f0dbe7a04"
      },
      "execution_count": 6,
      "outputs": [
        {
          "output_type": "execute_result",
          "data": {
            "application/vnd.google.colaboratory.intrinsic+json": {
              "type": "string"
            },
            "text/plain": [
              "'I had such high hopes for this dress 15 size or (my usual size) to work for me.'"
            ]
          },
          "metadata": {},
          "execution_count": 6
        }
      ]
    },
    {
      "cell_type": "markdown",
      "source": [
        "### Replacing the repetitions of punctuations"
      ],
      "metadata": {
        "id": "4uXgHA05uwJN"
      }
    },
    {
      "cell_type": "code",
      "source": [
        "text1 = \"I had such... high hopes for this dress!!!!\" \n",
        "ans = re.sub(r'(\\!)\\1+', '', text1) \n",
        "ans\n",
        "\n",
        "#Output\n",
        "#'I had such... high hopes for this dress'"
      ],
      "metadata": {
        "colab": {
          "base_uri": "https://localhost:8080/",
          "height": 35
        },
        "id": "eVR4ZhJXuNOK",
        "outputId": "c4c0c8f7-7a97-40b8-bd84-ef9708352373"
      },
      "execution_count": 7,
      "outputs": [
        {
          "output_type": "execute_result",
          "data": {
            "application/vnd.google.colaboratory.intrinsic+json": {
              "type": "string"
            },
            "text/plain": [
              "'I had such... high hopes for this dress'"
            ]
          },
          "metadata": {},
          "execution_count": 7
        }
      ]
    },
    {
      "cell_type": "code",
      "source": [
        "text1 = \"I had such... high hopes for this dress!!!!\" \n",
        "ans = re.sub(r'(\\!|\\.)\\1+', '', text1) \n",
        "ans\n",
        "\n",
        "#Output\n",
        "#'I had such high hopes for this dress'"
      ],
      "metadata": {
        "colab": {
          "base_uri": "https://localhost:8080/",
          "height": 35
        },
        "id": "mETr-54ruNKx",
        "outputId": "e53a6ccf-7efa-43b7-cdce-3054fb35aa1b"
      },
      "execution_count": 8,
      "outputs": [
        {
          "output_type": "execute_result",
          "data": {
            "application/vnd.google.colaboratory.intrinsic+json": {
              "type": "string"
            },
            "text/plain": [
              "'I had such high hopes for this dress'"
            ]
          },
          "metadata": {},
          "execution_count": 8
        }
      ]
    },
    {
      "cell_type": "markdown",
      "source": [
        "### Removing Emojis"
      ],
      "metadata": {
        "id": "8086_nqLuiwa"
      }
    },
    {
      "cell_type": "code",
      "source": [
        "def remove_emoji(string):\n",
        "    emoji_pattern = re.compile(\"[\"\n",
        "                           u\"\\U0001F600-\\U0001F64F\"  # emoticons\n",
        "                           u\"\\U0001F300-\\U0001F5FF\"  # symbols & pictographs\n",
        "                           u\"\\U0001F680-\\U0001F6FF\"  # transport & map symbols\n",
        "                           u\"\\U0001F1E0-\\U0001F1FF\"  # flags (iOS)\n",
        "                           u\"\\U00002702-\\U000027B0\"\n",
        "                           u\"\\U000024C2-\\U0001F251\"\n",
        "                           \"]+\", flags=re.UNICODE)\n",
        "    return emoji_pattern.sub(r'', string)\n",
        "\n",
        "remove_emoji(\"game is on 🔥🔥\")\n",
        "\n",
        "#Output\n",
        "#'game is on '"
      ],
      "metadata": {
        "colab": {
          "base_uri": "https://localhost:8080/",
          "height": 35
        },
        "id": "en0V3lSWuNEw",
        "outputId": "8ee46dfa-ce84-4719-84f1-fb2763a3ceb3"
      },
      "execution_count": 9,
      "outputs": [
        {
          "output_type": "execute_result",
          "data": {
            "application/vnd.google.colaboratory.intrinsic+json": {
              "type": "string"
            },
            "text/plain": [
              "'game is on '"
            ]
          },
          "metadata": {},
          "execution_count": 9
        }
      ]
    },
    {
      "cell_type": "markdown",
      "source": [
        "### Removing Emoticons"
      ],
      "metadata": {
        "id": "QrOB-tFOueq9"
      }
    },
    {
      "cell_type": "code",
      "source": [
        "# Removing of Emoticons\n",
        "EMOTICONS = {\n",
        "    u\":‑\\)\":\"Happy face or smiley\",\n",
        "    u\":\\)\":\"Happy face or smiley\",\n",
        "    u\":-\\]\":\"Happy face or smiley\",\n",
        "    u\":\\]\":\"Happy face or smiley\",\n",
        "    u\":-3\":\"Happy face smiley\",\n",
        "    u\":3\":\"Happy face smiley\",\n",
        "    u\":->\":\"Happy face smiley\",\n",
        "    u\":>\":\"Happy face smiley\",\n",
        "    u\"8-\\)\":\"Happy face smiley\",\n",
        "    u\":o\\)\":\"Happy face smiley\",\n",
        "    u\":-\\}\":\"Happy face smiley\",\n",
        "    u\":\\}\":\"Happy face smiley\",\n",
        "    u\":-\\)\":\"Happy face smiley\",\n",
        "    u\":c\\)\":\"Happy face smiley\",\n",
        "    u\":\\^\\)\":\"Happy face smiley\",\n",
        "    u\"=\\]\":\"Happy face smiley\"\n",
        "}\n",
        "text = 'I had such high hopes for this dress 15 size really wanted it to work for me :-)'\n",
        "ans = re.compile(u'(' + u'|'.join(k for k in EMOTICONS) + u')')\n",
        "ans =  ans.sub(r'',text)\n",
        "ans\n",
        "\n",
        "#Output\n",
        "#I had such high hopes for this dress 15 size really wanted it to work for me "
      ],
      "metadata": {
        "colab": {
          "base_uri": "https://localhost:8080/",
          "height": 35
        },
        "id": "ZAYh06O8uNBU",
        "outputId": "124aceb5-137f-4667-dd2b-593bc550d433"
      },
      "execution_count": 10,
      "outputs": [
        {
          "output_type": "execute_result",
          "data": {
            "application/vnd.google.colaboratory.intrinsic+json": {
              "type": "string"
            },
            "text/plain": [
              "'I had such high hopes for this dress 15 size really wanted it to work for me '"
            ]
          },
          "metadata": {},
          "execution_count": 10
        }
      ]
    },
    {
      "cell_type": "code",
      "source": [
        "def convert_emoticons(text):\n",
        "    for emot in EMOTICONS:\n",
        "        text = re.sub(u'('+emot+')', \"_\".join(EMOTICONS[emot].replace(\",\",\"\").split()), text)\n",
        "    return text\n",
        "\n",
        "text = \"Hello :-)\"\n",
        "convert_emoticons(text)\n",
        "\n",
        "#Output\n",
        "#'Hello Happy_face_smiley'"
      ],
      "metadata": {
        "colab": {
          "base_uri": "https://localhost:8080/",
          "height": 35
        },
        "id": "q7PJMTwtuM-T",
        "outputId": "0ac7047b-659a-4cd2-88e1-1a79c0f3a693"
      },
      "execution_count": 11,
      "outputs": [
        {
          "output_type": "execute_result",
          "data": {
            "application/vnd.google.colaboratory.intrinsic+json": {
              "type": "string"
            },
            "text/plain": [
              "'Hello Happy_face_smiley'"
            ]
          },
          "metadata": {},
          "execution_count": 11
        }
      ]
    },
    {
      "cell_type": "markdown",
      "source": [
        "### Replacing the contraction"
      ],
      "metadata": {
        "id": "p8gxExv4sbJh"
      }
    },
    {
      "cell_type": "code",
      "execution_count": 12,
      "metadata": {
        "colab": {
          "base_uri": "https://localhost:8080/"
        },
        "id": "kh55-t1hsWnO",
        "outputId": "365292a6-c399-464d-91dc-0238c972a160"
      },
      "outputs": [
        {
          "output_type": "stream",
          "name": "stdout",
          "text": [
            "Requirement already satisfied: contractions in /usr/local/lib/python3.7/dist-packages (0.0.58)\n",
            "Requirement already satisfied: textsearch>=0.0.21 in /usr/local/lib/python3.7/dist-packages (from contractions) (0.0.21)\n",
            "Requirement already satisfied: pyahocorasick in /usr/local/lib/python3.7/dist-packages (from textsearch>=0.0.21->contractions) (1.4.2)\n",
            "Requirement already satisfied: anyascii in /usr/local/lib/python3.7/dist-packages (from textsearch>=0.0.21->contractions) (0.3.0)\n"
          ]
        }
      ],
      "source": [
        "!pip install contractions"
      ]
    },
    {
      "cell_type": "code",
      "source": [
        "import contractions\n",
        "text = \"She'd like to know how I'd done that!\"\n",
        "contractions.fix(text)\n",
        "#Output\n",
        "#she would like to know how I would done that!"
      ],
      "metadata": {
        "colab": {
          "base_uri": "https://localhost:8080/",
          "height": 35
        },
        "id": "OSuIQU2nsXbt",
        "outputId": "e339b86f-9fb9-406e-bef6-f7afc1e4d433"
      },
      "execution_count": 13,
      "outputs": [
        {
          "output_type": "execute_result",
          "data": {
            "application/vnd.google.colaboratory.intrinsic+json": {
              "type": "string"
            },
            "text/plain": [
              "'she would like to know how I would done that!'"
            ]
          },
          "metadata": {},
          "execution_count": 13
        }
      ]
    }
  ]
}